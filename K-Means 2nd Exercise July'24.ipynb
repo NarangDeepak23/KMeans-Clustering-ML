{
 "cells": [
  {
   "cell_type": "code",
   "execution_count": 1,
   "id": "743352a4",
   "metadata": {},
   "outputs": [],
   "source": [
    "import numpy as np\n",
    "import pandas as pd\n",
    "import matplotlib.pyplot as plt\n",
    "import seaborn as sns"
   ]
  },
  {
   "cell_type": "code",
   "execution_count": 2,
   "id": "a8154828",
   "metadata": {},
   "outputs": [],
   "source": [
    "%matplotlib inline"
   ]
  },
  {
   "cell_type": "code",
   "execution_count": 3,
   "id": "12a50af8",
   "metadata": {},
   "outputs": [],
   "source": [
    "from sklearn.datasets import make_blobs"
   ]
  },
  {
   "cell_type": "code",
   "execution_count": 4,
   "id": "b74b8e6b",
   "metadata": {},
   "outputs": [],
   "source": [
    "# sklearn.datasets.make_blobs(n_samples=100, n_features=2, *, centers=None, \n",
    "# cluster_std=1.0, center_box=(-10.0, 10.0), shuffle=True, random_state=None, return_centers=False)\n",
    "# Generate isotropic Gaussian blobs for clustering."
   ]
  },
  {
   "cell_type": "code",
   "execution_count": 5,
   "id": "db7c96d9",
   "metadata": {},
   "outputs": [],
   "source": [
    "x,y=make_blobs(n_samples=1000,n_features=2,centers=3, random_state=23)\n",
    "# x--> Independent \n",
    "# y--> Dependent \n",
    "# Since it is unsupervised algo and there is no y; we ignore y here\n",
    "# its just taken here because this make_blobs returns two outputs x & y"
   ]
  },
  {
   "cell_type": "code",
   "execution_count": 6,
   "id": "774554bf",
   "metadata": {},
   "outputs": [
    {
     "data": {
      "text/html": [
       "<div>\n",
       "<style scoped>\n",
       "    .dataframe tbody tr th:only-of-type {\n",
       "        vertical-align: middle;\n",
       "    }\n",
       "\n",
       "    .dataframe tbody tr th {\n",
       "        vertical-align: top;\n",
       "    }\n",
       "\n",
       "    .dataframe thead th {\n",
       "        text-align: right;\n",
       "    }\n",
       "</style>\n",
       "<table border=\"1\" class=\"dataframe\">\n",
       "  <thead>\n",
       "    <tr style=\"text-align: right;\">\n",
       "      <th></th>\n",
       "      <th>0</th>\n",
       "      <th>1</th>\n",
       "    </tr>\n",
       "  </thead>\n",
       "  <tbody>\n",
       "    <tr>\n",
       "      <th>0</th>\n",
       "      <td>-5.370391</td>\n",
       "      <td>3.475552</td>\n",
       "    </tr>\n",
       "    <tr>\n",
       "      <th>1</th>\n",
       "      <td>5.841612</td>\n",
       "      <td>-3.981830</td>\n",
       "    </tr>\n",
       "    <tr>\n",
       "      <th>2</th>\n",
       "      <td>1.761278</td>\n",
       "      <td>9.396963</td>\n",
       "    </tr>\n",
       "    <tr>\n",
       "      <th>3</th>\n",
       "      <td>-5.246640</td>\n",
       "      <td>5.602234</td>\n",
       "    </tr>\n",
       "    <tr>\n",
       "      <th>4</th>\n",
       "      <td>5.463128</td>\n",
       "      <td>-3.089388</td>\n",
       "    </tr>\n",
       "    <tr>\n",
       "      <th>...</th>\n",
       "      <td>...</td>\n",
       "      <td>...</td>\n",
       "    </tr>\n",
       "    <tr>\n",
       "      <th>995</th>\n",
       "      <td>-5.047968</td>\n",
       "      <td>3.186992</td>\n",
       "    </tr>\n",
       "    <tr>\n",
       "      <th>996</th>\n",
       "      <td>5.494799</td>\n",
       "      <td>-6.487077</td>\n",
       "    </tr>\n",
       "    <tr>\n",
       "      <th>997</th>\n",
       "      <td>6.141478</td>\n",
       "      <td>-5.754916</td>\n",
       "    </tr>\n",
       "    <tr>\n",
       "      <th>998</th>\n",
       "      <td>-5.453308</td>\n",
       "      <td>1.755996</td>\n",
       "    </tr>\n",
       "    <tr>\n",
       "      <th>999</th>\n",
       "      <td>-0.219670</td>\n",
       "      <td>8.729220</td>\n",
       "    </tr>\n",
       "  </tbody>\n",
       "</table>\n",
       "<p>1000 rows × 2 columns</p>\n",
       "</div>"
      ],
      "text/plain": [
       "            0         1\n",
       "0   -5.370391  3.475552\n",
       "1    5.841612 -3.981830\n",
       "2    1.761278  9.396963\n",
       "3   -5.246640  5.602234\n",
       "4    5.463128 -3.089388\n",
       "..        ...       ...\n",
       "995 -5.047968  3.186992\n",
       "996  5.494799 -6.487077\n",
       "997  6.141478 -5.754916\n",
       "998 -5.453308  1.755996\n",
       "999 -0.219670  8.729220\n",
       "\n",
       "[1000 rows x 2 columns]"
      ]
     },
     "execution_count": 6,
     "metadata": {},
     "output_type": "execute_result"
    }
   ],
   "source": [
    "pd.DataFrame(x)"
   ]
  },
  {
   "cell_type": "code",
   "execution_count": 7,
   "id": "0984a466",
   "metadata": {},
   "outputs": [
    {
     "data": {
      "text/plain": [
       "<matplotlib.collections.PathCollection at 0x2572b4d8910>"
      ]
     },
     "execution_count": 7,
     "metadata": {},
     "output_type": "execute_result"
    },
    {
     "data": {
      "image/png": "[encoded data removed]",
      "text/plain": [
       "<Figure size 432x288 with 1 Axes>"
      ]
     },
     "metadata": {
      "needs_background": "light"
     },
     "output_type": "display_data"
    }
   ],
   "source": [
    "# create scatter plots of data samples\n",
    "plt.scatter(x[:,0],x[:,1])"
   ]
  },
  {
   "cell_type": "code",
   "execution_count": 8,
   "id": "bd27db92",
   "metadata": {},
   "outputs": [],
   "source": [
    "# It can be sene data is already availabe in form of clustered.\n",
    "# using K-Means we shall provide labels to these clusters"
   ]
  },
  {
   "cell_type": "code",
   "execution_count": 9,
   "id": "3be2f7ce",
   "metadata": {},
   "outputs": [],
   "source": [
    "from sklearn.model_selection import train_test_split\n",
    "x_train,x_test,y_train,y_test=train_test_split(x,y,test_size=0.33,random_state=42)"
   ]
  },
  {
   "cell_type": "code",
   "execution_count": 10,
   "id": "07c2b276",
   "metadata": {},
   "outputs": [],
   "source": [
    "# class sklearn.cluster.KMeans(n_clusters=8, *, init='k-means++', n_init='auto', \n",
    "# max_iter=300, tol=0.0001, verbose=0, random_state=None, copy_x=True, algorithm='lloyd')\n",
    "# K-Means clustering."
   ]
  },
  {
   "cell_type": "code",
   "execution_count": 11,
   "id": "a26c9324",
   "metadata": {},
   "outputs": [],
   "source": [
    "from sklearn.cluster import KMeans"
   ]
  },
  {
   "cell_type": "code",
   "execution_count": 12,
   "id": "9e045ca3",
   "metadata": {},
   "outputs": [
    {
     "data": {
      "text/plain": [
       "[7935.4372861454185,\n",
       " 1319.2730531585607,\n",
       " 1140.4677884655127,\n",
       " 991.9047984051341,\n",
       " 853.6417717909605,\n",
       " 756.6338638085035,\n",
       " 664.6728567267619,\n",
       " 581.8442388253018,\n",
       " 531.3846583938488]"
      ]
     },
     "execution_count": 12,
     "metadata": {},
     "output_type": "execute_result"
    }
   ],
   "source": [
    "# Manual Way:\n",
    "# Elbow Method\n",
    "# To select K value \n",
    "wcss=[]\n",
    "clusters=range(2,11)\n",
    "for i in clusters:\n",
    "    km=KMeans(n_clusters=i,init=\"k-means++\",random_state=23)\n",
    "    km.fit(x_train)\n",
    "    wcss.append(km.inertia_)\n",
    "    \n",
    "wcss\n",
    "    \n",
    "\n",
    "# # k-means++’ : selects initial cluster centroids using sampling based \n",
    "# on an empirical probability distribution of the points’ contribution \n",
    "# to the overall inertia. This technique speeds up convergence.\n",
    "# The algorithm implemented is “greedy k-means++”. It differs \n",
    "# from the vanilla k-means++ by making several trials at each \n",
    "# sampling step and choosing the best centroid among them.\n"
   ]
  },
  {
   "cell_type": "code",
   "execution_count": 13,
   "id": "510fb198",
   "metadata": {},
   "outputs": [
    {
     "data": {
      "image/png": "[encoded data removed]",
      "text/plain": [
       "<Figure size 720x720 with 1 Axes>"
      ]
     },
     "metadata": {
      "needs_background": "light"
     },
     "output_type": "display_data"
    }
   ],
   "source": [
    "plt.figure(figsize=(10,10))\n",
    "plt.plot(clusters,wcss)\n",
    "plt.xlabel(\"Nummber of CLusters\")\n",
    "plt.ylabel(\"WCSS\")\n",
    "plt.show()\n"
   ]
  },
  {
   "cell_type": "code",
   "execution_count": 14,
   "id": "c5a6c0e4",
   "metadata": {},
   "outputs": [],
   "source": [
    "# It can be seen the elbow curve is getting stable at K=3"
   ]
  },
  {
   "cell_type": "code",
   "execution_count": 15,
   "id": "bd86087b",
   "metadata": {},
   "outputs": [],
   "source": [
    "# How to find labels on Clusters\n",
    "KM=KMeans(n_clusters=3,init=\"k-means++\")"
   ]
  },
  {
   "cell_type": "code",
   "execution_count": 16,
   "id": "d94d02f2",
   "metadata": {},
   "outputs": [],
   "source": [
    "y_labels=KM.fit_predict(x_train)"
   ]
  },
  {
   "cell_type": "code",
   "execution_count": 17,
   "id": "f0f51b5b",
   "metadata": {},
   "outputs": [
    {
     "data": {
      "text/plain": [
       "<matplotlib.collections.PathCollection at 0x2572caab460>"
      ]
     },
     "execution_count": 17,
     "metadata": {},
     "output_type": "execute_result"
    },
    {
     "data": {
      "image/png": "[encoded data removed]",
      "text/plain": [
       "<Figure size 432x288 with 1 Axes>"
      ]
     },
     "metadata": {
      "needs_background": "light"
     },
     "output_type": "display_data"
    }
   ],
   "source": [
    "plt.scatter(x_train[:,0],x_train[:,1],c=y_labels)"
   ]
  },
  {
   "cell_type": "code",
   "execution_count": 18,
   "id": "bc21cc8a",
   "metadata": {},
   "outputs": [
    {
     "data": {
      "text/plain": [
       "<matplotlib.collections.PathCollection at 0x2572cb39f70>"
      ]
     },
     "execution_count": 18,
     "metadata": {},
     "output_type": "execute_result"
    },
    {
     "data": {
      "image/png": "[encoded data removed]",
      "text/plain": [
       "<Figure size 432x288 with 1 Axes>"
      ]
     },
     "metadata": {
      "needs_background": "light"
     },
     "output_type": "display_data"
    }
   ],
   "source": [
    "y_labels_test=KM.predict(x_test)\n",
    "plt.scatter(x_test[:,0],x_test[:,1],c=y_labels_test)"
   ]
  },
  {
   "cell_type": "code",
   "execution_count": 19,
   "id": "dadf1e1b",
   "metadata": {},
   "outputs": [],
   "source": [
    "# This is Manual Mode\n",
    "# IF we want to automate this procedure\n",
    "# Then Knee Locator library is used."
   ]
  },
  {
   "cell_type": "code",
   "execution_count": 20,
   "id": "06bdf435",
   "metadata": {},
   "outputs": [
    {
     "name": "stdout",
     "output_type": "stream",
     "text": [
      "Requirement already satisfied: kneed in c:\\users\\kanishu\\anaconda3\\lib\\site-packages (0.8.5)\n",
      "Requirement already satisfied: numpy>=1.14.2 in c:\\users\\kanishu\\anaconda3\\lib\\site-packages (from kneed) (1.21.5)\n",
      "Requirement already satisfied: scipy>=1.0.0 in c:\\users\\kanishu\\anaconda3\\lib\\site-packages (from kneed) (1.7.3)\n"
     ]
    }
   ],
   "source": [
    "!pip install kneed"
   ]
  },
  {
   "cell_type": "code",
   "execution_count": 21,
   "id": "28338b7b",
   "metadata": {},
   "outputs": [],
   "source": [
    "from kneed import KneeLocator"
   ]
  },
  {
   "cell_type": "code",
   "execution_count": 22,
   "id": "bff912bb",
   "metadata": {},
   "outputs": [
    {
     "data": {
      "text/plain": [
       "3"
      ]
     },
     "execution_count": 22,
     "metadata": {},
     "output_type": "execute_result"
    }
   ],
   "source": [
    "kl=KneeLocator(clusters,wcss,curve='convex',direction='decreasing')\n",
    "kl.elbow"
   ]
  },
  {
   "cell_type": "code",
   "execution_count": 23,
   "id": "68c6818b",
   "metadata": {},
   "outputs": [],
   "source": [
    "# Performance Matrix\n",
    "from sklearn.metrics import silhouette_score"
   ]
  },
  {
   "cell_type": "code",
   "execution_count": 26,
   "id": "1cad3037",
   "metadata": {},
   "outputs": [
    {
     "data": {
      "text/plain": [
       "[0.7281443868598331,\n",
       " 0.8071181203797672,\n",
       " 0.6357733426488265,\n",
       " 0.4907093255057165,\n",
       " 0.3399742579377459,\n",
       " 0.3419446138284359,\n",
       " 0.33940816350037584,\n",
       " 0.3441987158239705,\n",
       " 0.3422145778203239]"
      ]
     },
     "execution_count": 26,
     "metadata": {},
     "output_type": "execute_result"
    }
   ],
   "source": [
    "ssc=[]\n",
    "for i in clusters:\n",
    "    km=KMeans(n_clusters=i,init=\"k-means++\")\n",
    "    km.fit(x_train)\n",
    "    score=silhouette_score(x_train,km.labels_)\n",
    "    ssc.append(score)\n",
    "ssc"
   ]
  },
  {
   "cell_type": "code",
   "execution_count": 27,
   "id": "87d45ae0",
   "metadata": {},
   "outputs": [
    {
     "data": {
      "text/plain": [
       "[<matplotlib.lines.Line2D at 0x2572ce06c10>]"
      ]
     },
     "execution_count": 27,
     "metadata": {},
     "output_type": "execute_result"
    },
    {
     "data": {
      "image/png": "[encoded data removed]",
      "text/plain": [
       "<Figure size 432x288 with 1 Axes>"
      ]
     },
     "metadata": {
      "needs_background": "light"
     },
     "output_type": "display_data"
    }
   ],
   "source": [
    "plt.plot(clusters,ssc)"
   ]
  },
  {
   "cell_type": "code",
   "execution_count": null,
   "id": "97c384fb",
   "metadata": {},
   "outputs": [],
   "source": [
    "# The max value of score is obtained at k=3. So it also proves that calculated value of k is absolutely fine.\n"
   ]
  }
 ],
 "metadata": {
  "kernelspec": {
   "display_name": "Python 3 (ipykernel)",
   "language": "python",
   "name": "python3"
  },
  "language_info": {
   "codemirror_mode": {
    "name": "ipython",
    "version": 3
   },
   "file_extension": ".py",
   "mimetype": "text/x-python",
   "name": "python",
   "nbconvert_exporter": "python",
   "pygments_lexer": "ipython3",
   "version": "3.9.12"
  }
 },
 "nbformat": 4,
 "nbformat_minor": 5
}
